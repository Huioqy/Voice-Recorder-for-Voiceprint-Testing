{
 "cells": [
  {
   "cell_type": "markdown",
   "metadata": {},
   "source": [
    "# Collect All the Information from the Filename and Summarize in Excel\n",
    "# Username can be encryted in to Anonymous ID"
   ]
  },
  {
   "cell_type": "code",
   "execution_count": null,
   "metadata": {
    "ExecuteTime": {
     "end_time": "2019-08-23T06:18:21.532916Z",
     "start_time": "2019-08-23T06:18:21.172101Z"
    }
   },
   "outputs": [],
   "source": [
    "import os, shutil\n",
    "from openpyxl import Workbook\n",
    "from openpyxl.utils import get_column_letter\n",
    "from openpyxl import load_workbook\n",
    "import datetime\n",
    "\n",
    "# excel initial\n",
    "excel_filename = './../Voice_Data_Encryted.xlsx'   \n",
    "wb = load_workbook(filename = excel_filename) \n",
    "sheet_title = str(datetime.date.today())\n",
    "ws = wb.create_sheet(title=sheet_title)\n",
    "ws = wb[sheet_title]\n",
    "date=datetime.date.today()\n",
    "formatted_date=date.strftime('%y%m%d')\n",
    "\n",
    "# files\n",
    "path = os.getcwd() + \"/../Data/\"\n",
    "file_paths = os.listdir(path)\n",
    "file_paths.sort()\n",
    "dst_path = \"./Data_Encryted/\"\n",
    "excel_line = 1\n",
    "Username_old = \"\"\n",
    "\n",
    "header = ['Username', 'Anonymous_ID','PDPA','Fixed1_Length', 'Fixed1_Time', 'Fixed2_Length', 'Fixed2_Time', \n",
    "          'Fixed3_Length', 'Fixed3_Time', 'Fixed4_Length', 'Fixed4_Time',\n",
    "          'Random1_Length', 'Random1_Time', 'Random2_Length', 'Random2_Time']\n",
    "header_dict = {}\n",
    "\n",
    "for i, col in enumerate(list(map(chr, range(ord('A'), ord('A')+len(header))))):\n",
    "    header_dict[header[i]] = col;\n",
    "    ws[col+str(1)]=header[i]\n",
    "    \n",
    "\n",
    "for i, fp in enumerate(file_paths): \n",
    "    file_format = os.path.splitext(fp)[-1] \n",
    "    file_name = os.path.splitext(fp)[0] \n",
    "    if (file_format == \".wav\"): \n",
    "        # Getting Info From Filename     \n",
    "        Username = str(file_name.split('_')[0])\n",
    "        TextID = str(file_name.split('_')[1])  \n",
    "        Length = str(file_name.split('_')[2])  \n",
    "        Time = str(file_name.split('_')[3])+':'+str(file_name.split('_')[4])+':'+str(file_name.split('_')[5])\n",
    "        Date = str(file_name.split('_')[6])+'/'+str(file_name.split('_')[7])+'/'+str(file_name.split('_')[8])\n",
    "        Time_Date = Time+' '+Date\n",
    "        \n",
    "        if(Username != Username_old):\n",
    "            excel_line = excel_line + 1\n",
    "            ws[header_dict['Username']+str(excel_line)]=Username\n",
    "            # Can change into any kind of Anonymous_ID\n",
    "            Anonymous_ID = formatted_date + '{:03d}'.format(excel_line-1)\n",
    "            ws[header_dict['Anonymous_ID']+str(excel_line)]=Anonymous_ID\n",
    "            ws[header_dict['PDPA']+str(excel_line)]='Agree'\n",
    "            Username_old = Username\n",
    "        \n",
    "        ws[header_dict[TextID+'_Length']+str(excel_line)]=Length\n",
    "        ws[header_dict[TextID+'_Time']+str(excel_line)]=Time_Date\n",
    "        \n",
    "        # copy\n",
    "        shutil.copy2(path+fp, dst_path+fp.replace(Username, Anonymous_ID))\n",
    "        \n",
    "        \n",
    "print (excel_line)\n",
    "wb.save(filename=excel_filename)\n"
   ]
  },
  {
   "cell_type": "code",
   "execution_count": null,
   "metadata": {},
   "outputs": [],
   "source": []
  }
 ],
 "metadata": {
  "kernelspec": {
   "display_name": "Python 3",
   "language": "python",
   "name": "python3"
  },
  "language_info": {
   "codemirror_mode": {
    "name": "ipython",
    "version": 3
   },
   "file_extension": ".py",
   "mimetype": "text/x-python",
   "name": "python",
   "nbconvert_exporter": "python",
   "pygments_lexer": "ipython3",
   "version": "3.7.1"
  },
  "toc": {
   "base_numbering": 1,
   "nav_menu": {},
   "number_sections": true,
   "sideBar": true,
   "skip_h1_title": false,
   "title_cell": "Table of Contents",
   "title_sidebar": "Contents",
   "toc_cell": false,
   "toc_position": {},
   "toc_section_display": true,
   "toc_window_display": false
  },
  "varInspector": {
   "cols": {
    "lenName": 16,
    "lenType": 16,
    "lenVar": 40
   },
   "kernels_config": {
    "python": {
     "delete_cmd_postfix": "",
     "delete_cmd_prefix": "del ",
     "library": "var_list.py",
     "varRefreshCmd": "print(var_dic_list())"
    },
    "r": {
     "delete_cmd_postfix": ") ",
     "delete_cmd_prefix": "rm(",
     "library": "var_list.r",
     "varRefreshCmd": "cat(var_dic_list()) "
    }
   },
   "types_to_exclude": [
    "module",
    "function",
    "builtin_function_or_method",
    "instance",
    "_Feature"
   ],
   "window_display": false
  }
 },
 "nbformat": 4,
 "nbformat_minor": 2
}
