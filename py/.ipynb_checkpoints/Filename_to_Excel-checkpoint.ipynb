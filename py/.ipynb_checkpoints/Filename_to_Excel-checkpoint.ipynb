{
 "cells": [
  {
   "cell_type": "markdown",
   "metadata": {},
   "source": [
    "# Collect All the Information from the Filename and Summarize in Excel"
   ]
  },
  {
   "cell_type": "code",
   "execution_count": null,
   "metadata": {
    "ExecuteTime": {
     "end_time": "2019-08-23T04:09:41.689605Z",
     "start_time": "2019-08-23T04:09:41.655657Z"
    }
   },
   "outputs": [],
   "source": [
    "import os\n",
    "import datetime\n",
    "from openpyxl import Workbook\n",
    "from openpyxl.utils import get_column_letter\n",
    "from openpyxl import load_workbook\n",
    "\n",
    "# excel initial\n",
    "excel_filename = \"./../Voice_Data.xlsx\"  \n",
    "wb = load_workbook(filename = excel_filename)  # wb = Workbook()   \n",
    "sheet_title = str(datetime.date.today())\n",
    "ws = wb.create_sheet(title=sheet_title)\n",
    "ws = wb[sheet_title]\n",
    "\n",
    "header = ['Username', 'Fixed1_Length', 'Fixed1_Time', 'Fixed2_Length', 'Fixed2_Time', \n",
    "          'Fixed3_Length', 'Fixed3_Time', 'Fixed4_Length', 'Fixed4_Time',\n",
    "          'Random1_Length', 'Random1_Time', 'Random2_Length', 'Random2_Time','PDPA']\n",
    "header_dict = {}\n",
    "for i, col in enumerate(list(map(chr, range(ord('A'), ord('A')+len(header))))):\n",
    "    header_dict[header[i]] = col;\n",
    "    ws[col+str(1)]=header[i]\n",
    "    \n",
    "# files\n",
    "path = os.getcwd() + \"/../Data/\"\n",
    "file_paths = os.listdir(path)\n",
    "file_paths.sort()\n",
    "excel_line = 1\n",
    "Username_old = \"\"\n",
    "for i, fp in enumerate(file_paths): \n",
    "    file_format = os.path.splitext(fp)[-1] # 文件后缀\n",
    "    file_name = os.path.splitext(fp)[0] # 文件名\n",
    "    if (file_format == \".wav\"): \n",
    "        # Getting Info From Filename     \n",
    "        Username = str(file_name.split('_')[0])\n",
    "        TextID = str(file_name.split('_')[1])  \n",
    "        Length = str(file_name.split('_')[2])  \n",
    "        Time = str(file_name.split('_')[3])+':'+str(file_name.split('_')[4])+':'+str(file_name.split('_')[5])\n",
    "        Date = str(file_name.split('_')[6])+'/'+str(file_name.split('_')[7])+'/'+str(file_name.split('_')[8])\n",
    "        Time_Date = Time+' '+Date\n",
    "        \n",
    "        if(Username != Username_old):\n",
    "            excel_line = excel_line + 1\n",
    "            ws[header_dict['Username']+str(excel_line)]=Username\n",
    "            ws[header_dict['PDPA']+str(excel_line)]='Agree'\n",
    "            Username_old = Username\n",
    "        \n",
    "        ws[header_dict[TextID+'_Length']+str(excel_line)]=Length\n",
    "        ws[header_dict[TextID+'_Time']+str(excel_line)]=Time_Date\n",
    "\n",
    "print (excel_line)\n",
    "wb.save(filename=excel_filename)"
   ]
  },
  {
   "cell_type": "code",
   "execution_count": null,
   "metadata": {
    "ExecuteTime": {
     "end_time": "2019-07-31T03:50:02.611912Z",
     "start_time": "2019-07-31T03:50:02.607352Z"
    }
   },
   "outputs": [],
   "source": []
  },
  {
   "cell_type": "code",
   "execution_count": null,
   "metadata": {},
   "outputs": [],
   "source": []
  }
 ],
 "metadata": {
  "kernelspec": {
   "display_name": "Python 3",
   "language": "python",
   "name": "python3"
  },
  "language_info": {
   "codemirror_mode": {
    "name": "ipython",
    "version": 3
   },
   "file_extension": ".py",
   "mimetype": "text/x-python",
   "name": "python",
   "nbconvert_exporter": "python",
   "pygments_lexer": "ipython3",
   "version": "3.7.1"
  },
  "toc": {
   "base_numbering": 1,
   "nav_menu": {},
   "number_sections": true,
   "sideBar": true,
   "skip_h1_title": false,
   "title_cell": "Table of Contents",
   "title_sidebar": "Contents",
   "toc_cell": false,
   "toc_position": {},
   "toc_section_display": true,
   "toc_window_display": false
  },
  "varInspector": {
   "cols": {
    "lenName": 16,
    "lenType": 16,
    "lenVar": 40
   },
   "kernels_config": {
    "python": {
     "delete_cmd_postfix": "",
     "delete_cmd_prefix": "del ",
     "library": "var_list.py",
     "varRefreshCmd": "print(var_dic_list())"
    },
    "r": {
     "delete_cmd_postfix": ") ",
     "delete_cmd_prefix": "rm(",
     "library": "var_list.r",
     "varRefreshCmd": "cat(var_dic_list()) "
    }
   },
   "types_to_exclude": [
    "module",
    "function",
    "builtin_function_or_method",
    "instance",
    "_Feature"
   ],
   "window_display": false
  }
 },
 "nbformat": 4,
 "nbformat_minor": 2
}
